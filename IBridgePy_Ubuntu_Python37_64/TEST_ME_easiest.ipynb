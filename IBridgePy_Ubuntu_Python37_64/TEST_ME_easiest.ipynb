{
 "cells": [
  {
   "cell_type": "code",
   "execution_count": null,
   "id": "389ce681",
   "metadata": {},
   "outputs": [],
   "source": [
    "# coding=utf-8\n",
    "import datetime as dt\n",
    "\n",
    "from configuration import test_me\n",
    "\n",
    "# Related YouTube tutorials about IBridgePy backtester\n",
    "# Build “Buy low Sell high” strategy by Machine learning https://youtu.be/hNCwNxeXrwA\n",
    "# Detailed explanation about “Buy low Sell high” strategy https://youtu.be/PI5dhqCAuvA\n",
    "# Calculate Sharpe Ratio https://youtu.be/4xTHdzAMhcI\n",
    "# Backtest without hist ingestion https://youtu.be/bwmx5hiSPV4\n",
    "# Backtest with hist ingestion https://youtu.be/XnpxAVU4ogY\n",
    "# Backtest with hist from local files https://youtu.be/UR_7_F8wPL0\n",
    "# Speed up backtest by designating spot times https://youtu.be/bVE59nZ02ig\n",
    "# Convert hist data format https://youtu.be/hYL6SYgy7wE\n",
    "# Backtest using IBridgePy data center https://youtu.be/0FPgtmUpTI0\n",
    "fileName = 'demo_buy_low_sell_high.py'\n",
    "\n",
    "accountCode = 'DU1868499'  # IB accountCode is needed to retrieve historical data from IB server.\n",
    "dataProviderName = 'IB'  # RANDOM, IB, LOCAL_FILE, TD, ROBINHOOD, IBRIDGEPY\n",
    "\n",
    "####\n",
    "# The backtesting time period is defined by two variables: endTime and startTime, default timezone = 'US/Eastern'\n",
    "# Refer to this YouTube tutorial about IBridgePy Backtester: https://youtu.be/bwmx5hiSPV4\n",
    "####\n",
    "\n",
    "# As a demo, endTime is the current time.\n",
    "# IBridgePy automatically sets endTime.second to 0 because the default mode of IBridgePy backtester is designed to\n",
    "# backtest strategies minutely and the second must be zero.\n",
    "endTime = dt.datetime.now()\n",
    "\n",
    "# As a demo, startTime is 10 days ago from the current time.\n",
    "startTime = endTime - dt.timedelta(days=10)\n",
    "\n",
    "test_me(fileName, globals())"
   ]
  },
  {
   "cell_type": "code",
   "execution_count": null,
   "id": "3dd075d9",
   "metadata": {},
   "outputs": [],
   "source": [
    "# Make a plot to show the backtesting results\n",
    "from tools.portfolio_sharpe_ratio import use_latest_backtest_balanceLog\n",
    "use_latest_backtest_balanceLog()"
   ]
  },
  {
   "cell_type": "code",
   "execution_count": null,
   "id": "d5a05617",
   "metadata": {},
   "outputs": [],
   "source": []
  }
 ],
 "metadata": {
  "kernelspec": {
   "display_name": "Python 3 (ipykernel)",
   "language": "python",
   "name": "python3"
  },
  "language_info": {
   "codemirror_mode": {
    "name": "ipython",
    "version": 3
   },
   "file_extension": ".py",
   "mimetype": "text/x-python",
   "name": "python",
   "nbconvert_exporter": "python",
   "pygments_lexer": "ipython3",
   "version": "3.9.10"
  }
 },
 "nbformat": 4,
 "nbformat_minor": 5
}
