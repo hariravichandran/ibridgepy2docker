{
 "cells": [
  {
   "cell_type": "code",
   "execution_count": null,
   "id": "39169029",
   "metadata": {},
   "outputs": [],
   "source": [
    "# coding=utf-8\n",
    "import datetime as dt\n",
    "\n",
    "from IBridgePy.IbridgepyTools import symbol\n",
    "from configuration import test_me\n",
    "from data_provider_factory.data_loading_plan import HistIngestionPlan, Plan\n",
    "\n",
    "# Related YouTube tutorials about IBridgePy backtester\n",
    "# Build “Buy low Sell high” strategy by Machine learning https://youtu.be/hNCwNxeXrwA\n",
    "# Detailed explanation about “Buy low Sell high” strategy https://youtu.be/PI5dhqCAuvA\n",
    "# Calculate Sharpe Ratio https://youtu.be/4xTHdzAMhcI\n",
    "# Backtest without hist ingestion https://youtu.be/bwmx5hiSPV4\n",
    "# Backtest with hist ingestion https://youtu.be/XnpxAVU4ogY\n",
    "# Backtest with hist from local files https://youtu.be/UR_7_F8wPL0\n",
    "# Speed up backtest by designating spot times https://youtu.be/bVE59nZ02ig\n",
    "# Convert hist data format https://youtu.be/hYL6SYgy7wE\n",
    "# Backtest using IBridgePy data center https://youtu.be/0FPgtmUpTI0\n",
    "fileName = 'demo_buy_low_sell_high.py'\n",
    "\n",
    "dataProviderName = 'LOCAL_FILE'  # RANDOM, IB, LOCAL_FILE, TD, ROBINHOOD, IBRIDGEPY\n",
    "\n",
    "####\n",
    "# The backtesting time period is defined by two variables: endTime and startTime, default timezone = 'US/Eastern'\n",
    "####\n",
    "\n",
    "# As a demo, endTime is Dec 24th 2020 because the ingested historical data ends on that date.\n",
    "# IBridgePy automatically sets endTime.second to 0 because the default mode of IBridgePy backtester is designed to\n",
    "# backtest strategies minutely and the second must be zero.\n",
    "endTime = dt.datetime(2020, 12, 24)\n",
    "\n",
    "# As a demo, startTime is 50 days ago from the current time.\n",
    "startTime = endTime - dt.timedelta(days=50)\n",
    "\n",
    "# \"histIngestionPlan\" is a reserved word in IBridgePy to store the historical data ingestion plan that describes what historical data\n",
    "# are needed during backtesting and IBridgePy backtester will fetch these data before backtesting to speed up the whole backtesting process.\n",
    "# \"histIngestionPlan\" is not required for backtesting but it will make backtest much faster.\n",
    "# \"histIngestionPlan\" is an instance of HistIngestionPlan.\n",
    "histIngestionPlan = HistIngestionPlan()\n",
    "\n",
    "# Default folder to load hist files is ibridgepyRoot/Input\n",
    "# User can designate the loading folder by \"histIngestionPlan = HistIngestionPlan(defaultFolderName=xxx)\"\n",
    "# \"histIngestionPlan.add\" is used to add more Ingestion Plans\n",
    "# The full path of the file is ibridgepyRoot/Input/SPY_1min_55D.csv\n",
    "histIngestionPlan.add(Plan(security=symbol('SPY'), barSize='1 min', fileName='SPY_1min_55D.csv'))\n",
    "histIngestionPlan.add(Plan(security=symbol('SPY'), barSize='1 day', fileName='SPY_1day_55D.csv'))  # Add more plans as needed.\n",
    "\n",
    "test_me(fileName, globals())\n"
   ]
  },
  {
   "cell_type": "code",
   "execution_count": null,
   "id": "7d22ca86",
   "metadata": {},
   "outputs": [],
   "source": [
    "# Make a plot to show the backtesting results\n",
    "from tools.portfolio_sharpe_ratio import use_latest_backtest_balanceLog\n",
    "use_latest_backtest_balanceLog()"
   ]
  }
 ],
 "metadata": {
  "kernelspec": {
   "display_name": "Python 3 (ipykernel)",
   "language": "python",
   "name": "python3"
  },
  "language_info": {
   "codemirror_mode": {
    "name": "ipython",
    "version": 3
   },
   "file_extension": ".py",
   "mimetype": "text/x-python",
   "name": "python",
   "nbconvert_exporter": "python",
   "pygments_lexer": "ipython3",
   "version": "3.7.13"
  }
 },
 "nbformat": 4,
 "nbformat_minor": 5
}
