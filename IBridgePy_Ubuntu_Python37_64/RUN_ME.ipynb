{
 "cells": [
  {
   "cell_type": "code",
   "execution_count": null,
   "id": "d4c3add9",
   "metadata": {},
   "outputs": [],
   "source": [
    "# -*- coding: utf-8 -*-\n",
    "\"\"\"\n",
    "There is a risk of loss when trading stocks, futures, forex, options and other\n",
    "financial instruments. Please trade with capital you can afford to\n",
    "lose. Past performance is not necessarily indicative of future results.\n",
    "Nothing in this computer program/code is intended to be a recommendation, explicitly or implicitly, and/or\n",
    "solicitation to buy or sell any stocks or futures or options or any securities/financial instruments.\n",
    "All information and computer programs provided here is for education and\n",
    "entertainment purpose only; accuracy and thoroughness cannot be guaranteed.\n",
    "Readers/users are solely responsible for how to use these information and\n",
    "are solely responsible any consequences of using these information.\n",
    "\n",
    "If you have any questions, please send email to IBridgePy@gmail.com\n",
    "All rights reserved.\n",
    "\"\"\"\n",
    "from configuration import run_me\n",
    "\n",
    "fileName = 'example_show_positions.py'\n",
    "# fileName = 'example_get_historical_data.py'\n",
    "# fileName = 'example_show_real_time_prices.py'\n",
    "# fileName = 'example_place_order.py'\n",
    "# fileName = 'example_get_contract_details.py'\n",
    "# fileName = 'example_get_option_greeks.py'\n",
    "# fileName = 'example_security_screener.py'\n",
    "\n",
    "# To trade with Interactive Brokers using IBridgePy.\n",
    "# Instruction for Mac users. Refer to YouTube tutorial https://youtu.be/M96ZPXQnngA\n",
    "# Instruction for Windows users. Refer to YouTube tutorial https://youtu.be/ywaZiGFrcrc\n",
    "#\n",
    "# Step 1. Config Trader Workstation TWS or Gateway. Refer to YouTube tutorial https://youtu.be/9hPOB-tY5vk\n",
    "# Step 2. Change accountCode. Login ID is not accountCode\n",
    "# Step 3. Config IBridgePy. Refer to YouTube tutorial https://youtu.be/9hFZmCe7d4Q\n",
    "#      For example, a) config handle_data( ) to run every 3 minutes\n",
    "#                   b) run like Quantopian mode\n",
    "#                   c) logLevel\n",
    "#                   d) run before market open\n",
    "#                   e) others\n",
    "# Step 4: Choose a fileName and run !\n",
    "# If you need help on coding, please consider our well known Rent-a-Coder service. https://ibridgepy.com/rent-a-coder/\n",
    "\n",
    "\n",
    "# !!!!!! IMPORTANT  !!!!!!!!!!!!!!!!!\n",
    "accountCode = 'DU1868499'  # You need to change it to your own IB account number\n",
    "# !!!!!!!!!!!!!!!!!!!!!!!!!!!!!!!!!!!\n",
    "\n",
    "'''\n",
    "In the default mode, handle_data will be called every second.\n",
    "To run Quantopian algorithms, handle_data will be called every minute\n",
    "Please use the following runMode\n",
    "'''\n",
    "# runMode = 'RUN_LIKE_QUANTOPIAN'\n",
    "\n",
    "run_me(fileName, globals())"
   ]
  }
 ],
 "metadata": {
  "kernelspec": {
   "display_name": "Python 3 (ipykernel)",
   "language": "python",
   "name": "python3"
  },
  "language_info": {
   "codemirror_mode": {
    "name": "ipython",
    "version": 3
   },
   "file_extension": ".py",
   "mimetype": "text/x-python",
   "name": "python",
   "nbconvert_exporter": "python",
   "pygments_lexer": "ipython3",
   "version": "3.8.9"
  }
 },
 "nbformat": 4,
 "nbformat_minor": 5
}
